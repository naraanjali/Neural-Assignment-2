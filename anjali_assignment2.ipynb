{
  "cells": [
    {
      "cell_type": "code",
      "execution_count": 10,
      "metadata": {
        "colab": {
          "base_uri": "https://localhost:8080/"
        },
        "id": "1vpRUAoZxbqa",
        "outputId": "87589272-ac68-482e-ccda-d5b033659624"
      },
      "outputs": [
        {
          "name": "stdout",
          "output_type": "stream",
          "text": [
            "Anjali Nara\n"
          ]
        }
      ],
      "source": [
        "def fullname(first,last): #Function that performs string concatination \n",
        "  str=first+\" \"+last\n",
        "  return str\n",
        "first=input() # reads first name\n",
        "last=input() # reads second name\n",
        "final=fullname(first,last) #calling function\n",
        "print(final)"
      ]
    },
    {
      "cell_type": "code",
      "execution_count": 11,
      "metadata": {
        "colab": {
          "base_uri": "https://localhost:8080/"
        },
        "id": "1ww71o1DxtQ9",
        "outputId": "f15e85b5-4e5f-4adb-c350-1a6557a6cc3d"
      },
      "outputs": [
        {
          "name": "stdout",
          "output_type": "stream",
          "text": [
            "Anjali Nara\n",
            "Ajl aa\n"
          ]
        }
      ],
      "source": [
        "def fullname(first,last): #Function that performs string concatination\n",
        "  str=first+\" \"+last\n",
        "  return str\n",
        "def string_alternative(final): #Function that performs slicing operation and returns the final result \n",
        "  newstr=final[::2]\n",
        "  return newstr\n",
        "first=input() # reads first name\n",
        "last=input() # reads second name\n",
        "final=fullname(first,last) # Calling function for string concatination\n",
        "print(final)\n",
        "alternate=string_alternative(final) # calling function for slicing \n",
        "print(alternate)"
      ]
    },
    {
      "cell_type": "code",
      "execution_count": 12,
      "metadata": {
        "colab": {
          "base_uri": "https://localhost:8080/"
        },
        "id": "NybPE6Qtxw_g",
        "outputId": "0d61e7f7-c0a4-4a5f-fedc-324aa36a6f31"
      },
      "outputs": [],
      "source": [
        "file1 = open(\"input.txt\",\"r\") # opens input text file from the local computer \n",
        "string=file1.read() #reads input file\n",
        "file2 = open(\"output.txt\",\"w+\") # opens output text file\n",
        "words= dict() # creates empty dictionary\n",
        "sep_words= string.split() #splits the string\n",
        "for i in sep_words: # for loop to count the words\n",
        "        if i in words:\n",
        "            words[i] += 1\n",
        "        else:\n",
        "            words[i] = 1\n",
        "file2.write(\"Word_Count: \"+str(words)) #writes the output results \n",
        "\n",
        "file2.close() # close output file"
      ]
    },
    {
      "cell_type": "code",
      "execution_count": 13,
      "metadata": {
        "colab": {
          "background_save": true,
          "base_uri": "https://localhost:8080/"
        },
        "id": "zj74QRvlx6GD",
        "outputId": "5847324b-c3bf-41b2-acb6-2253190b1eec"
      },
      "outputs": [
        {
          "name": "stdout",
          "output_type": "stream",
          "text": [
            "[68.02721088435374, 70.29478458049887, 65.75963718820861, 67.12018140589569]\n"
          ]
        }
      ],
      "source": [
        "#Nested Interactive loop\n",
        "List1=[]\n",
        "Output=[]\n",
        "x=int(input(\"No of heights\"))\n",
        "for i in range(x):\n",
        "  List1.append(float(input())) #converting the input to float values\n",
        "for j in range(x):\n",
        "  Output.append(List1[j]/2.205) # converting the values of input from inches to centimeters by dividing it with 2.205\n",
        "print(Output)"
      ]
    },
    {
      "cell_type": "code",
      "execution_count": 14,
      "metadata": {},
      "outputs": [
        {
          "name": "stdout",
          "output_type": "stream",
          "text": [
            "[68.02721088435374, 70.29478458049887, 65.75963718820861, 67.12018140589569]\n"
          ]
        }
      ],
      "source": [
        "# List comprehensions\n",
        "x=int(input())\n",
        "List1=list(map(float, input().strip().split()))[:x] \n",
        "# converts each element to floating using float, check for white space using strip and splits the input into list using split and stores with input values\n",
        "Output = [i /2.205 for i in List1] #converts each input value to centimeters and stores in output\n",
        "print(Output)"
      ]
    }
  ],
  "metadata": {
    "colab": {
      "provenance": []
    },
    "kernelspec": {
      "display_name": "Python 3",
      "name": "python3"
    },
    "language_info": {
      "codemirror_mode": {
        "name": "ipython",
        "version": 3
      },
      "file_extension": ".py",
      "mimetype": "text/x-python",
      "name": "python",
      "nbconvert_exporter": "python",
      "pygments_lexer": "ipython3",
      "version": "3.11.5"
    }
  },
  "nbformat": 4,
  "nbformat_minor": 0
}
