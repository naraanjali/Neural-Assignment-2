{
  "cells": [
    {
      "cell_type": "code",
      "execution_count": 2,
      "metadata": {
        "colab": {
          "base_uri": "https://localhost:8080/"
        },
        "id": "1vpRUAoZxbqa",
        "outputId": "87589272-ac68-482e-ccda-d5b033659624"
      },
      "outputs": [
        {
          "name": "stdout",
          "output_type": "stream",
          "text": [
            "Anjali Nara\n"
          ]
        }
      ],
      "source": [
        "def fullname(first,last):\n",
        "  str=first+\" \"+last\n",
        "  return str\n",
        "first=input()\n",
        "last=input()\n",
        "final=fullname(first,last)\n",
        "print(final)"
      ]
    },
    {
      "cell_type": "code",
      "execution_count": 1,
      "metadata": {
        "colab": {
          "base_uri": "https://localhost:8080/"
        },
        "id": "1ww71o1DxtQ9",
        "outputId": "f15e85b5-4e5f-4adb-c350-1a6557a6cc3d"
      },
      "outputs": [
        {
          "name": "stdout",
          "output_type": "stream",
          "text": [
            "anjali nara nara\n",
            "ajl aanr\n"
          ]
        }
      ],
      "source": [
        "def fullname(first,last):\n",
        "  str=first+\" \"+last\n",
        "  return str\n",
        "def string_alternative(final):\n",
        "  newstr=final[::2]\n",
        "  return newstr\n",
        "first=input()\n",
        "last=input()\n",
        "final=fullname(first,last)\n",
        "print(final)\n",
        "alternate=string_alternative(final)\n",
        "print(alternate)"
      ]
    },
    {
      "cell_type": "code",
      "execution_count": 3,
      "metadata": {
        "colab": {
          "base_uri": "https://localhost:8080/"
        },
        "id": "NybPE6Qtxw_g",
        "outputId": "0d61e7f7-c0a4-4a5f-fedc-324aa36a6f31"
      },
      "outputs": [],
      "source": [
        "file1 = open(\"input.txt\",\"r\")\n",
        "string=file1.read()\n",
        "file2 = open(\"output.txt\",\"w+\")\n",
        "words= dict()\n",
        "sep_words= string.split()\n",
        "for i in sep_words:\n",
        "        if i in words:\n",
        "            words[i] += 1\n",
        "        else:\n",
        "            words[i] = 1\n",
        "file2.write(\"Word_Count: \"+str(words))\n",
        "\n",
        "file2.close()"
      ]
    },
    {
      "cell_type": "code",
      "execution_count": 2,
      "metadata": {
        "colab": {
          "background_save": true,
          "base_uri": "https://localhost:8080/"
        },
        "id": "zj74QRvlx6GD",
        "outputId": "5847324b-c3bf-41b2-acb6-2253190b1eec"
      },
      "outputs": [
        {
          "name": "stdout",
          "output_type": "stream",
          "text": [
            "[68.02721088435374, 65.75963718820861, 70.29478458049887, 67.12018140589569]\n"
          ]
        }
      ],
      "source": [
        "L=[]\n",
        "O=[]\n",
        "x=int(input(\"No of heights\"))\n",
        "for i in range(x):\n",
        "  L.append(float(input()))\n",
        "for j in range(x):\n",
        "  O.append(L[j]/2.205)\n",
        "print(O)"
      ]
    },
    {
      "cell_type": "code",
      "execution_count": 2,
      "metadata": {},
      "outputs": [
        {
          "name": "stdout",
          "output_type": "stream",
          "text": [
            "[68.02721088435374, 70.29478458049887, 65.75963718820861, 67.12018140589569]\n"
          ]
        }
      ],
      "source": [
        "x=int(input())\n",
        "L=list(map(float, input().strip().split()))[:x]\n",
        "O = [i /2.205 for i in L]\n",
        "print(O)"
      ]
    }
  ],
  "metadata": {
    "colab": {
      "provenance": []
    },
    "kernelspec": {
      "display_name": "Python 3",
      "name": "python3"
    },
    "language_info": {
      "codemirror_mode": {
        "name": "ipython",
        "version": 3
      },
      "file_extension": ".py",
      "mimetype": "text/x-python",
      "name": "python",
      "nbconvert_exporter": "python",
      "pygments_lexer": "ipython3",
      "version": "3.11.5"
    }
  },
  "nbformat": 4,
  "nbformat_minor": 0
}
